{
 "cells": [
  {
   "cell_type": "markdown",
   "id": "1c289304",
   "metadata": {},
   "source": [
    "Predict the daily demand of Energy in a 110 kV substation. Features used are:-\n",
    "- Date\n",
    "- Average Room Temperature\n",
    "- Number of supply interruptions"
   ]
  },
  {
   "cell_type": "code",
   "execution_count": 1,
   "id": "050af167",
   "metadata": {},
   "outputs": [],
   "source": [
    "import pandas as pd\n",
    "import numpy as np\n",
    "import matplotlib.pyplot as plt"
   ]
  },
  {
   "cell_type": "code",
   "execution_count": 2,
   "id": "b6e5d49c",
   "metadata": {},
   "outputs": [
    {
     "data": {
      "text/html": [
       "<div>\n",
       "<style scoped>\n",
       "    .dataframe tbody tr th:only-of-type {\n",
       "        vertical-align: middle;\n",
       "    }\n",
       "\n",
       "    .dataframe tbody tr th {\n",
       "        vertical-align: top;\n",
       "    }\n",
       "\n",
       "    .dataframe thead th {\n",
       "        text-align: right;\n",
       "    }\n",
       "</style>\n",
       "<table border=\"1\" class=\"dataframe\">\n",
       "  <thead>\n",
       "    <tr style=\"text-align: right;\">\n",
       "      <th></th>\n",
       "      <th>Date</th>\n",
       "      <th>Duration of Interruption</th>\n",
       "      <th>No. of Interruption</th>\n",
       "      <th>Average Temperature</th>\n",
       "      <th>total energy per day(MWH)</th>\n",
       "    </tr>\n",
       "  </thead>\n",
       "  <tbody>\n",
       "    <tr>\n",
       "      <th>0</th>\n",
       "      <td>2021-08-01</td>\n",
       "      <td>82</td>\n",
       "      <td>17</td>\n",
       "      <td>28.5</td>\n",
       "      <td>872000</td>\n",
       "    </tr>\n",
       "    <tr>\n",
       "      <th>1</th>\n",
       "      <td>2021-08-02</td>\n",
       "      <td>484</td>\n",
       "      <td>28</td>\n",
       "      <td>25.5</td>\n",
       "      <td>904000</td>\n",
       "    </tr>\n",
       "    <tr>\n",
       "      <th>2</th>\n",
       "      <td>2021-08-03</td>\n",
       "      <td>577</td>\n",
       "      <td>30</td>\n",
       "      <td>27.5</td>\n",
       "      <td>832000</td>\n",
       "    </tr>\n",
       "    <tr>\n",
       "      <th>3</th>\n",
       "      <td>2021-08-04</td>\n",
       "      <td>97</td>\n",
       "      <td>21</td>\n",
       "      <td>27.0</td>\n",
       "      <td>852000</td>\n",
       "    </tr>\n",
       "    <tr>\n",
       "      <th>4</th>\n",
       "      <td>2021-08-05</td>\n",
       "      <td>102</td>\n",
       "      <td>12</td>\n",
       "      <td>27.0</td>\n",
       "      <td>904000</td>\n",
       "    </tr>\n",
       "  </tbody>\n",
       "</table>\n",
       "</div>"
      ],
      "text/plain": [
       "        Date  Duration of Interruption  No. of Interruption  \\\n",
       "0 2021-08-01                        82                   17   \n",
       "1 2021-08-02                       484                   28   \n",
       "2 2021-08-03                       577                   30   \n",
       "3 2021-08-04                        97                   21   \n",
       "4 2021-08-05                       102                   12   \n",
       "\n",
       "   Average Temperature  total energy per day(MWH)  \n",
       "0                 28.5                     872000  \n",
       "1                 25.5                     904000  \n",
       "2                 27.5                     832000  \n",
       "3                 27.0                     852000  \n",
       "4                 27.0                     904000  "
      ]
     },
     "execution_count": 2,
     "metadata": {},
     "output_type": "execute_result"
    }
   ],
   "source": [
    "df = pd.read_excel('Project Data.xlsx')\n",
    "df= df.drop('Unnamed: 0', axis = 1)   \n",
    "df.head()"
   ]
  },
  {
   "cell_type": "code",
   "execution_count": 3,
   "id": "34b7a1ef",
   "metadata": {},
   "outputs": [
    {
     "data": {
      "text/html": [
       "<div>\n",
       "<style scoped>\n",
       "    .dataframe tbody tr th:only-of-type {\n",
       "        vertical-align: middle;\n",
       "    }\n",
       "\n",
       "    .dataframe tbody tr th {\n",
       "        vertical-align: top;\n",
       "    }\n",
       "\n",
       "    .dataframe thead th {\n",
       "        text-align: right;\n",
       "    }\n",
       "</style>\n",
       "<table border=\"1\" class=\"dataframe\">\n",
       "  <thead>\n",
       "    <tr style=\"text-align: right;\">\n",
       "      <th></th>\n",
       "      <th>Duration of Interruption</th>\n",
       "      <th>No. of Interruption</th>\n",
       "      <th>Average Temperature</th>\n",
       "      <th>total energy per day(MWH)</th>\n",
       "    </tr>\n",
       "  </thead>\n",
       "  <tbody>\n",
       "    <tr>\n",
       "      <th>Duration of Interruption</th>\n",
       "      <td>1.000000</td>\n",
       "      <td>0.114754</td>\n",
       "      <td>0.036499</td>\n",
       "      <td>-0.015441</td>\n",
       "    </tr>\n",
       "    <tr>\n",
       "      <th>No. of Interruption</th>\n",
       "      <td>0.114754</td>\n",
       "      <td>1.000000</td>\n",
       "      <td>-0.020660</td>\n",
       "      <td>-0.065573</td>\n",
       "    </tr>\n",
       "    <tr>\n",
       "      <th>Average Temperature</th>\n",
       "      <td>0.036499</td>\n",
       "      <td>-0.020660</td>\n",
       "      <td>1.000000</td>\n",
       "      <td>0.300883</td>\n",
       "    </tr>\n",
       "    <tr>\n",
       "      <th>total energy per day(MWH)</th>\n",
       "      <td>-0.015441</td>\n",
       "      <td>-0.065573</td>\n",
       "      <td>0.300883</td>\n",
       "      <td>1.000000</td>\n",
       "    </tr>\n",
       "  </tbody>\n",
       "</table>\n",
       "</div>"
      ],
      "text/plain": [
       "                           Duration of Interruption  No. of Interruption  \\\n",
       "Duration of Interruption                   1.000000             0.114754   \n",
       "No. of Interruption                        0.114754             1.000000   \n",
       "Average Temperature                        0.036499            -0.020660   \n",
       "total energy per day(MWH)                 -0.015441            -0.065573   \n",
       "\n",
       "                           Average Temperature  total energy per day(MWH)  \n",
       "Duration of Interruption              0.036499                  -0.015441  \n",
       "No. of Interruption                  -0.020660                  -0.065573  \n",
       "Average Temperature                   1.000000                   0.300883  \n",
       "total energy per day(MWH)             0.300883                   1.000000  "
      ]
     },
     "execution_count": 3,
     "metadata": {},
     "output_type": "execute_result"
    }
   ],
   "source": [
    "df.corr()"
   ]
  },
  {
   "cell_type": "code",
   "execution_count": 4,
   "id": "246a8d05",
   "metadata": {},
   "outputs": [
    {
     "data": {
      "image/png": "[encoded data removed]",
      "text/plain": [
       "<Figure size 432x288 with 1 Axes>"
      ]
     },
     "metadata": {
      "needs_background": "light"
     },
     "output_type": "display_data"
    }
   ],
   "source": [
    "plt.scatter(df['Average Temperature'], df['total energy per day(MWH)'])\n",
    "plt.xlabel('Average Temperature')\n",
    "plt.ylabel('total energy per day(MWH)')\n",
    "plt.show()"
   ]
  },
  {
   "cell_type": "code",
   "execution_count": 5,
   "id": "a336697c",
   "metadata": {},
   "outputs": [
    {
     "data": {
      "image/png": "[encoded data removed]",
      "text/plain": [
       "<Figure size 432x288 with 1 Axes>"
      ]
     },
     "metadata": {
      "needs_background": "light"
     },
     "output_type": "display_data"
    }
   ],
   "source": [
    "plt.scatter(df['Duration of Interruption'], df['total energy per day(MWH)'])\n",
    "plt.xlabel('Duration of Interrution')\n",
    "plt.ylabel('total energy per day(MWH)')\n",
    "plt.show()"
   ]
  },
  {
   "cell_type": "code",
   "execution_count": 6,
   "id": "f82f62ab",
   "metadata": {},
   "outputs": [
    {
     "data": {
      "image/png": "[encoded data removed]",
      "text/plain": [
       "<Figure size 432x288 with 1 Axes>"
      ]
     },
     "metadata": {
      "needs_background": "light"
     },
     "output_type": "display_data"
    }
   ],
   "source": [
    "plt.scatter(df['No. of Interruption'], df['total energy per day(MWH)'])\n",
    "plt.xlabel('No. of Interruption')\n",
    "plt.ylabel('total energy per day(MWH)')\n",
    "plt.show()"
   ]
  },
  {
   "cell_type": "code",
   "execution_count": 7,
   "id": "030e082a",
   "metadata": {},
   "outputs": [],
   "source": [
    "from sklearn.preprocessing import LabelEncoder\n",
    "encode = LabelEncoder()\n",
    "df['Date'] = encode.fit_transform(df['Date'])"
   ]
  },
  {
   "cell_type": "code",
   "execution_count": 18,
   "id": "d88d16a8",
   "metadata": {},
   "outputs": [],
   "source": [
    "features = ['Date','Average Temperature', 'No. of Interruption']\n",
    "x = df[features]\n",
    "y = df['total energy per day(MWH)']"
   ]
  },
  {
   "cell_type": "code",
   "execution_count": 40,
   "id": "4ed072b6",
   "metadata": {},
   "outputs": [],
   "source": [
    "from sklearn.ensemble import RandomForestRegressor\n",
    "model = RandomForestRegressor(n_estimators=3200, max_leaf_nodes=700, random_state=7)"
   ]
  },
  {
   "cell_type": "code",
   "execution_count": 41,
   "id": "536f0a6d",
   "metadata": {},
   "outputs": [],
   "source": [
    "from sklearn.preprocessing import StandardScaler\n",
    "scale = StandardScaler()"
   ]
  },
  {
   "cell_type": "code",
   "execution_count": 42,
   "id": "ad4b8649",
   "metadata": {},
   "outputs": [],
   "source": [
    "from sklearn.model_selection import train_test_split\n",
    "xtrain, xtest, ytrain, ytest = train_test_split(x, y, test_size=0.15, random_state=5)"
   ]
  },
  {
   "cell_type": "code",
   "execution_count": 43,
   "id": "40274516",
   "metadata": {},
   "outputs": [],
   "source": [
    "xtrain = scale.fit_transform(xtrain)\n",
    "xtest = scale.transform(xtest)"
   ]
  },
  {
   "cell_type": "code",
   "execution_count": 44,
   "id": "81e2a456",
   "metadata": {},
   "outputs": [
    {
     "data": {
      "text/plain": [
       "RandomForestRegressor(max_leaf_nodes=700, n_estimators=3200, random_state=7)"
      ]
     },
     "execution_count": 44,
     "metadata": {},
     "output_type": "execute_result"
    }
   ],
   "source": [
    "model.fit(xtrain, ytrain)"
   ]
  },
  {
   "cell_type": "code",
   "execution_count": 45,
   "id": "c88646c9",
   "metadata": {},
   "outputs": [
    {
     "data": {
      "text/plain": [
       "array([1105901.875])"
      ]
     },
     "execution_count": 45,
     "metadata": {},
     "output_type": "execute_result"
    }
   ],
   "source": [
    "pred = model.predict([[23-5-2021, 27, 38]])\n",
    "pred"
   ]
  },
  {
   "cell_type": "code",
   "execution_count": 46,
   "id": "5299bb7e",
   "metadata": {},
   "outputs": [
    {
     "data": {
      "text/plain": [
       "0.8265021371815393"
      ]
     },
     "execution_count": 46,
     "metadata": {},
     "output_type": "execute_result"
    }
   ],
   "source": [
    "model.score(xtest,ytest)"
   ]
  },
  {
   "cell_type": "code",
   "execution_count": 47,
   "id": "98c7f593",
   "metadata": {},
   "outputs": [],
   "source": [
    "# model.fit(x, y)"
   ]
  },
  {
   "cell_type": "code",
   "execution_count": null,
   "id": "13da2b30",
   "metadata": {},
   "outputs": [],
   "source": [
    "# import joblib\n",
    "# filename = 'Finalised model.sav'\n",
    "# joblib.dump(model, filename)"
   ]
  },
  {
   "cell_type": "code",
   "execution_count": null,
   "id": "56ba2126",
   "metadata": {},
   "outputs": [],
   "source": [
    "# joblib.dump(encode, \"encoded.sav\")\n",
    "# joblib.dump(scale, \"scaled.sav\")"
   ]
  },
  {
   "cell_type": "code",
   "execution_count": null,
   "id": "e1be25b6",
   "metadata": {},
   "outputs": [],
   "source": [
    "# df.info()"
   ]
  },
  {
   "cell_type": "code",
   "execution_count": null,
   "id": "96a4c56f",
   "metadata": {},
   "outputs": [],
   "source": []
  },
  {
   "cell_type": "code",
   "execution_count": null,
   "id": "a1b24196",
   "metadata": {},
   "outputs": [],
   "source": []
  }
 ],
 "metadata": {
  "kernelspec": {
   "display_name": "Python 3 (ipykernel)",
   "language": "python",
   "name": "python3"
  },
  "language_info": {
   "codemirror_mode": {
    "name": "ipython",
    "version": 3
   },
   "file_extension": ".py",
   "mimetype": "text/x-python",
   "name": "python",
   "nbconvert_exporter": "python",
   "pygments_lexer": "ipython3",
   "version": "3.9.12"
  }
 },
 "nbformat": 4,
 "nbformat_minor": 5
}
